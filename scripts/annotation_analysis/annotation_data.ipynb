{
 "cells": [
  {
   "cell_type": "markdown",
   "metadata": {},
   "source": [
    "## Libraries Importation"
   ]
  },
  {
   "cell_type": "code",
   "execution_count": 29,
   "metadata": {},
   "outputs": [],
   "source": [
    "import os\n",
    "import json\n",
    "import sys\n",
    "\n",
    "from transformers import AutoTokenizer, AutoModelForSequenceClassification\n",
    "from transformers import TextClassificationPipeline\n",
    "\n",
    "sys.path.append(\"../../data\")\n",
    "from list_debat import dict_annotated_debates\n",
    "\n",
    "import pickle "
   ]
  },
  {
   "cell_type": "markdown",
   "metadata": {},
   "source": [
    "## Data importation"
   ]
  },
  {
   "cell_type": "code",
   "execution_count": 77,
   "metadata": {},
   "outputs": [
    {
     "name": "stdout",
     "output_type": "stream",
     "text": [
      "../../data/annotated_data/annotation_demonstrateur2.jsonl\n",
      "../../data/annotated_data/hollande_sarkozy_antoine.jsonl\n",
      "../../data/annotated_data/hollande_sarkozy_matthieu.jsonl\n",
      "../../data/annotated_data/macron_lepen_charles.jsonl\n"
     ]
    }
   ],
   "source": [
    "path_annotated_data = \"../../data/annotated_data\"\n",
    "\n",
    "dict_annotated_data = {}\n",
    "list_files_path = []\n",
    "for file_name in  os.listdir(path_annotated_data):\n",
    "    total_name = path_annotated_data +\"/\"+ file_name\n",
    "    print(total_name)\n",
    "    with open(total_name,\"r\") as f:\n",
    "        annotated_data = f.readlines()\n",
    "    dict_annotated_data[file_name] = annotated_data"
   ]
  },
  {
   "cell_type": "code",
   "execution_count": 10,
   "metadata": {},
   "outputs": [],
   "source": [
    "dict_sorted_by_topics = {\n",
    "        \"Sport\":{\n",
    "            \"graph\":[],\n",
    "            \"debate\":[]\n",
    "        },\n",
    "        \"Economie\":{\n",
    "            \"graph\":[],\n",
    "            \"debate\":[]\n",
    "        },\n",
    "        \"Opinion\":{\n",
    "            \"graph\":[],\n",
    "            \"debate\":[]\n",
    "        },\n",
    "        \"Politique\":{\n",
    "            \"graph\":[],\n",
    "            \"debate\":[]\n",
    "        },\n",
    "        \"Societe\":{\n",
    "            \"graph\":[],\n",
    "            \"debate\":[]\n",
    "        },\n",
    "        \"Culture\":{\n",
    "            \"graph\":[],\n",
    "            \"debate\":[]\n",
    "        },\n",
    "        \"Environement\":{\n",
    "            \"graph\":[],\n",
    "            \"debate\":[]\n",
    "        },\n",
    "        \"Technologie\":{\n",
    "            \"graph\":[],\n",
    "            \"debate\":[]\n",
    "        },\n",
    "        \"Education\":{\n",
    "            \"graph\":[],\n",
    "            \"debate\":[]\n",
    "        },\n",
    "        \"Justice\":{\n",
    "            \"graph\":[],\n",
    "            \"debate\":[]\n",
    "        },\n",
    "    }"
   ]
  },
  {
   "cell_type": "markdown",
   "metadata": {},
   "source": [
    "## Funcitons"
   ]
  },
  {
   "cell_type": "code",
   "execution_count": 11,
   "metadata": {},
   "outputs": [],
   "source": [
    "def construct_the_list_of_annotated_tuple(file_name,path_annotated_data):\n",
    "\n",
    "    model_name = 'lincoln/flaubert-mlsum-topic-classification'\n",
    "\n",
    "    loaded_tokenizer = AutoTokenizer.from_pretrained(model_name)\n",
    "    loaded_model = AutoModelForSequenceClassification.from_pretrained(model_name)\n",
    "\n",
    "    nlp = TextClassificationPipeline(model=loaded_model, tokenizer=loaded_tokenizer)\n",
    "\n",
    "    total_name =  path_annotated_data + file_name\n",
    "    with open(total_name,\"r\") as f:\n",
    "        annotated_data = f.readlines()\n",
    "\n",
    "\n",
    "    for line in annotated_data:\n",
    "        data_json_format = json.loads(line)\n",
    "        list_relation = {}\n",
    "        list_graph_structure = {}\n",
    "\n",
    "        \n",
    "        label_topic = nlp(data_json_format[\"text\"][:511])[0][\"label\"]\n",
    "        \n",
    "\n",
    "        for ele in data_json_format[\"relations\"]:\n",
    "\n",
    "            start_head = ele[\"head_span\"][\"start\"]\n",
    "            end_head = ele[\"head_span\"][\"end\"]\n",
    "            label_head = ele[\"head_span\"][\"label\"]\n",
    "\n",
    "            list_relation[start_head] = (start_head,end_head,label_head)\n",
    "\n",
    "            start_child = ele[\"child_span\"][\"start\"]\n",
    "            end_child = ele[\"child_span\"][\"end\"]\n",
    "            label_child = ele[\"child_span\"][\"label\"]\n",
    "\n",
    "            list_relation[start_child] = (start_child,end_child,label_child)\n",
    "\n",
    "            ele_for_graph = (label_head, label_child,  ele[\"label\"] )\n",
    "\n",
    "            list_graph_structure[start_child] =(ele_for_graph)\n",
    "\n",
    "        list_keys_sorted = sorted(list(list_relation.keys()))\n",
    "\n",
    "        list_segment = []\n",
    "        previous_end_indices = 0\n",
    "\n",
    "        if(len(list_keys_sorted) == 0):\n",
    "            list_segment.append(data_json_format[\"text\"])\n",
    "\n",
    "\n",
    "        for ele in list_keys_sorted:\n",
    "            ## On ajoute la partie qui n'est pas anotée\n",
    "            if(previous_end_indices < ele):\n",
    "                segment_start = data_json_format[\"text\"][previous_end_indices:ele]\n",
    "                list_segment.append(segment_start)\n",
    "\n",
    "            ## On s'occupe des parties ayant des arguments\n",
    "            (start_char,end_char,label_segment) = list_relation[ele]\n",
    "            segment = data_json_format[\"text\"][start_char:end_char]\n",
    "            tuple = (segment,label_segment)\n",
    "            list_segment.append(tuple)\n",
    "\n",
    "            previous_end_indices = end_char\n",
    "\n",
    "        # global_debate_to_show.append(list_segment)\n",
    "        dict_sorted_by_topics[label_topic][\"graph\"].append(list_graph_structure)\n",
    "        dict_sorted_by_topics[label_topic][\"debate\"].append(list_segment)\n",
    "        # global_graph.append(list_graph_structure)\n",
    "\n",
    "    return dict_sorted_by_topics"
   ]
  },
  {
   "cell_type": "markdown",
   "metadata": {},
   "source": [
    "## Test the function and store the file "
   ]
  },
  {
   "cell_type": "code",
   "execution_count": 31,
   "metadata": {},
   "outputs": [],
   "source": [
    "path_annotated_data = \"../../data/annotated_data/\"\n",
    "\n",
    "for key,value in dict_annotated_debates.items():\n",
    "    file_name = value[\"path\"]\n",
    "    \n",
    "    dict_output = construct_the_list_of_annotated_tuple(\"macron_lepen_charles.jsonl\",path_annotated_data)\n",
    "\n",
    "    with open(\"../../data/preprocessed_data/\" + file_name[:-6] +\"_\"+ \"output_dict\", \"wb\") as fp:   #Pickling\n",
    "        pickle.dump(dict_output, fp)"
   ]
  },
  {
   "cell_type": "code",
   "execution_count": 25,
   "metadata": {},
   "outputs": [],
   "source": [
    "with open(\"../../data/preprocessed_data/\" + file_name[:-6] + \"_\" + \"output_dict\", \"rb\") as fp:   # Unpickling\n",
    "    b = pickle.load(fp)"
   ]
  }
 ],
 "metadata": {
  "interpreter": {
   "hash": "11938c6bc6919ae2720b4d5011047913343b08a43b18698fd82dedb0d4417594"
  },
  "kernelspec": {
   "display_name": "Python 3.9.6 64-bit",
   "language": "python",
   "name": "python3"
  },
  "language_info": {
   "codemirror_mode": {
    "name": "ipython",
    "version": 3
   },
   "file_extension": ".py",
   "mimetype": "text/x-python",
   "name": "python",
   "nbconvert_exporter": "python",
   "pygments_lexer": "ipython3",
   "version": "3.9.6"
  },
  "orig_nbformat": 4
 },
 "nbformat": 4,
 "nbformat_minor": 2
}
