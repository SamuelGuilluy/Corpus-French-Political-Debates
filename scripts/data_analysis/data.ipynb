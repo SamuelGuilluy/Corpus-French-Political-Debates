{
 "cells": [
  {
   "cell_type": "code",
   "execution_count": 1,
   "metadata": {},
   "outputs": [],
   "source": [
    "import os\n",
    "import json"
   ]
  },
  {
   "cell_type": "code",
   "execution_count": 2,
   "metadata": {},
   "outputs": [],
   "source": [
    "path_raw_data = \"../../data/raw_data\"\n",
    "dict_debats = {}\n",
    "\n",
    "for list_file in  os.listdir(path_raw_data):\n",
    "    dict_debats[list_file] = []\n",
    "\n",
    "    global_path_to_data = path_raw_data + '/' + list_file\n",
    "    file =  open(global_path_to_data,'r')\n",
    "    list_lines = file.readlines()\n",
    "\n",
    "    for line in list_lines:\n",
    "        data = json.loads(line)\n",
    "        dict_debats[list_file].append(data[\"text\"])\n",
    "    \n",
    "    file.close()\n"
   ]
  },
  {
   "cell_type": "code",
   "execution_count": null,
   "metadata": {},
   "outputs": [],
   "source": [
    "dict_debats[\"data_Emmanuel_Macron_Marine_Le_Pen.jsonl\"]"
   ]
  },
  {
   "cell_type": "code",
   "execution_count": null,
   "metadata": {},
   "outputs": [],
   "source": [
    "for debat_name, debat_list in dict_debats.items():\n",
    "    print(debat_name)\n",
    "    for line in debat_list:\n",
    "        splited_line = line.split(\"-\")\n",
    "        if(len(splited_line)>2):\n",
    "            # print(line)\n",
    "            print(\"voici la valeur : \", splited_line[0])\n",
    "    break"
   ]
  }
 ],
 "metadata": {
  "interpreter": {
   "hash": "11938c6bc6919ae2720b4d5011047913343b08a43b18698fd82dedb0d4417594"
  },
  "kernelspec": {
   "display_name": "Python 3.9.6 64-bit",
   "language": "python",
   "name": "python3"
  },
  "language_info": {
   "codemirror_mode": {
    "name": "ipython",
    "version": 3
   },
   "file_extension": ".py",
   "mimetype": "text/x-python",
   "name": "python",
   "nbconvert_exporter": "python",
   "pygments_lexer": "ipython3",
   "version": "3.9.6"
  },
  "orig_nbformat": 4
 },
 "nbformat": 4,
 "nbformat_minor": 2
}
