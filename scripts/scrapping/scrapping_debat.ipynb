{
 "cells": [
  {
   "cell_type": "markdown",
   "metadata": {},
   "source": [
    "# Scrapping of the political debates"
   ]
  },
  {
   "cell_type": "code",
   "execution_count": 2,
   "metadata": {},
   "outputs": [],
   "source": [
    "from utils_scrapping import * \n",
    "import json"
   ]
  },
  {
   "cell_type": "code",
   "execution_count": 3,
   "metadata": {},
   "outputs": [],
   "source": [
    "tab_url_deux_tours = [\n",
    "    \"https://www.vie-publique.fr/discours/136226-face-face-televise-entre-mm-valery-giscard-destaing-et-francois-mitt\",\n",
    "    \"https://www.vie-publique.fr/discours/138972-face-face-televise-entre-mm-francois-mitterrand-et-jacques-chirac-lo\",\n",
    "    \"https://www.vie-publique.fr/discours/148596-debat-televise-et-radiodiffuse-entre-les-candidats-au-deuxieme-tour-de-l\",\n",
    "    \"https://www.vie-publique.fr/discours/166574-debat-televise-entre-mme-segolene-royal-depute-ps-et-m-nicolas-sarkoz\",\n",
    "    \"https://www.vie-publique.fr/discours/184977-debat-televise-entre-mm-nicolas-sarkozy-president-de-la-republique-et\",\n",
    "    \"https://www.vie-publique.fr/discours/203174-debat-televise-entre-m-emmanuel-macron-et-mme-marine-le-pen-candidats\",\n",
    "    \"https://www.vie-publique.fr/discours/285127-debat-televise-20042022-emmanuel-macron-marine-le-pen-candidats\"\n",
    "    ]"
   ]
  },
  {
   "cell_type": "code",
   "execution_count": 5,
   "metadata": {},
   "outputs": [
    {
     "name": "stderr",
     "output_type": "stream",
     "text": [
      " 14%|█▍        | 1/7 [00:02<00:14,  2.35s/it]"
     ]
    },
    {
     "name": "stdout",
     "output_type": "stream",
     "text": [
      "Valéry_Giscard_d'Estaing\n",
      "François_Mitterrand\n"
     ]
    },
    {
     "name": "stderr",
     "output_type": "stream",
     "text": [
      " 29%|██▊       | 2/7 [00:04<00:11,  2.33s/it]"
     ]
    },
    {
     "name": "stdout",
     "output_type": "stream",
     "text": [
      "François_Mitterrand\n",
      "Jacques_Chirac\n"
     ]
    },
    {
     "name": "stderr",
     "output_type": "stream",
     "text": [
      " 43%|████▎     | 3/7 [00:07<00:09,  2.36s/it]"
     ]
    },
    {
     "name": "stdout",
     "output_type": "stream",
     "text": [
      "Jacques_Chirac\n",
      "Lionel_Jospin\n"
     ]
    },
    {
     "name": "stderr",
     "output_type": "stream",
     "text": [
      " 57%|█████▋    | 4/7 [00:09<00:07,  2.36s/it]"
     ]
    },
    {
     "name": "stdout",
     "output_type": "stream",
     "text": [
      "Nicolas_Sarkozy\n",
      "Ségolène_Royal\n"
     ]
    },
    {
     "name": "stderr",
     "output_type": "stream",
     "text": [
      " 71%|███████▏  | 5/7 [00:11<00:04,  2.41s/it]"
     ]
    },
    {
     "name": "stdout",
     "output_type": "stream",
     "text": [
      "François_Hollande\n",
      "Nicolas_Sarkozy\n"
     ]
    },
    {
     "name": "stderr",
     "output_type": "stream",
     "text": [
      " 86%|████████▌ | 6/7 [00:14<00:02,  2.40s/it]"
     ]
    },
    {
     "name": "stdout",
     "output_type": "stream",
     "text": [
      "Marine_Le_Pen\n",
      "Emmanuel_Macron\n"
     ]
    },
    {
     "name": "stderr",
     "output_type": "stream",
     "text": [
      "100%|██████████| 7/7 [00:16<00:00,  2.39s/it]"
     ]
    },
    {
     "name": "stdout",
     "output_type": "stream",
     "text": [
      "Emmanuel_Macron\n",
      "Marine_Le_Pen\n"
     ]
    },
    {
     "name": "stderr",
     "output_type": "stream",
     "text": [
      "\n"
     ]
    }
   ],
   "source": [
    "list_dic = []\n",
    "\n",
    "for i in tqdm(tab_url_deux_tours):\n",
    "    time.sleep(2)\n",
    "    response = requests.get(i)\n",
    "    soup = bs4.BeautifulSoup(response.text, 'html.parser')\n",
    "\n",
    "    intervenant = extract_intervenant(response)\n",
    "    print(intervenant[0][\"name\"].replace(\" \",\"_\"))\n",
    "    print(intervenant[1][\"name\"].replace(\" \",\"_\"))\n",
    "\n",
    "    tab_with_out_br = extract_conversation_pour_annotation(soup)\n",
    "    \n",
    "    title, genre = extract_title_genre(response)\n",
    "    for ele in tab_with_out_br:\n",
    "        dic_interv = {\n",
    "                    \"text\" : ele,\n",
    "                    \"meta\" : {\"title\":title}\n",
    "                    }\n",
    "\n",
    "        list_dic.append(dic_interv)\n",
    "       \n",
    "    with open('../../data/raw_data/data_' + intervenant[0][\"name\"].replace(\" \",\"_\").replace(\"'\",\"\") + \"_\"+intervenant[1][\"name\"].replace(\" \",\"_\").replace(\"'\",\"\") + '.jsonl', 'w') as fp:\n",
    "        for dic_intervention in list_dic:\n",
    "            json.dump(dic_intervention, fp, ensure_ascii=False)\n",
    "            fp.write('\\n')\n",
    "\n"
   ]
  }
 ],
 "metadata": {
  "interpreter": {
   "hash": "11938c6bc6919ae2720b4d5011047913343b08a43b18698fd82dedb0d4417594"
  },
  "kernelspec": {
   "display_name": "Python 3.9.6 64-bit",
   "language": "python",
   "name": "python3"
  },
  "language_info": {
   "codemirror_mode": {
    "name": "ipython",
    "version": 3
   },
   "file_extension": ".py",
   "mimetype": "text/x-python",
   "name": "python",
   "nbconvert_exporter": "python",
   "pygments_lexer": "ipython3",
   "version": "3.9.6"
  },
  "orig_nbformat": 4
 },
 "nbformat": 4,
 "nbformat_minor": 2
}
